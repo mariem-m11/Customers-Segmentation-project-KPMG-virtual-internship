{
 "cells": [
  {
   "cell_type": "markdown",
   "id": "3b7c74d4-6410-4537-8b8a-06a2c41bcc42",
   "metadata": {},
   "source": [
    "\n",
    "Sprocket Central Pty Ltd Company Customers Recommendation Project\n",
    "\n",
    "Data assessment\n"
   ]
  },
  {
   "cell_type": "markdown",
   "id": "b624a17a-3ee1-4b93-8291-1762d0e04503",
   "metadata": {},
   "source": [
    "The client, Sprocket Central Pty Ltd, has provided us with three datasets: Customer Demographic, Customer Addresses, and \n",
    "Transactions data from the past three months. The company needs help in effectively analyzing this large dataset to \n",
    "optimize its marketing strategy.\n",
    "\n",
    "Our objective is to review the data quality for each of the three datasets and ensure that they are ready for analysis.\n",
    "We will clean and preprocess each dataset separately before joining them into one dataset for further analysis."
   ]
  },
  {
   "cell_type": "markdown",
   "id": "f98f734b-fa8f-4111-8257-f525d115cc8b",
   "metadata": {},
   "source": [
    "Transactions Dataset"
   ]
  },
  {
   "cell_type": "code",
   "execution_count": 208,
   "id": "e0d64517-e95a-438f-9f4e-a613633b7616",
   "metadata": {},
   "outputs": [],
   "source": [
    "# Import Libraries\n",
    "import pandas as pd\n",
    "import os\n",
    "import numpy as np\n",
    "import seaborn as sns\n",
    "import datetime as dt\n",
    "import matplotlib.pyplot as plt\n",
    "import calendar\n",
    "from datetime import datetime"
   ]
  },
  {
   "cell_type": "code",
   "execution_count": 209,
   "id": "93252855-d4f9-4475-a809-0f27c46e0fcb",
   "metadata": {},
   "outputs": [],
   "source": [
    "def xlsx_to_csv(xlsx_file_path, output_dir):\n",
    "    # Load all sheets in the xlsx file into a dictionary of dataframes\n",
    "    sheets = pd.read_excel(xlsx_file_path, sheet_name=None)\n",
    "\n",
    "    # Create the output directory if it doesn't exist\n",
    "    os.makedirs(output_dir, exist_ok=True)\n",
    "\n",
    "    # Loop through each sheet and convert it to a csv file\n",
    "    for sheet_name, df in sheets.items():\n",
    "        # Construct the output file path for the csv file\n",
    "        output_file_path = os.path.join(output_dir, sheet_name + '.csv')\n",
    "\n",
    "        # Save the dataframe as a csv file\n",
    "        df.to_csv(output_file_path, index=False)"
   ]
  },
  {
   "cell_type": "code",
   "execution_count": 217,
   "id": "5423b478-3d27-4c4e-82ae-6dc8ff9dbe9c",
   "metadata": {},
   "outputs": [],
   "source": [
    "#xlsx_to_csv(\"CustomerDemographic.xlsx\", \"CustomerDemographic\")\n",
    "#xlsx_to_csv(\"CustomerAddress.xlsx\", \"CustomerAddress\")\n",
    "#xlsx_to_csv(\"Transactions.xlsx\", \"Transactions\")\n",
    "#xlsx_to_csv(\"NewCustomerList.xlsx\", \"NewCustomerList\")"
   ]
  },
  {
   "cell_type": "code",
   "execution_count": 241,
   "id": "8991c8aa-386c-42e1-a460-81db0a7186f2",
   "metadata": {},
   "outputs": [
    {
     "data": {
      "text/html": [
       "<div>\n",
       "<style scoped>\n",
       "    .dataframe tbody tr th:only-of-type {\n",
       "        vertical-align: middle;\n",
       "    }\n",
       "\n",
       "    .dataframe tbody tr th {\n",
       "        vertical-align: top;\n",
       "    }\n",
       "\n",
       "    .dataframe thead th {\n",
       "        text-align: right;\n",
       "    }\n",
       "</style>\n",
       "<table border=\"1\" class=\"dataframe\">\n",
       "  <thead>\n",
       "    <tr style=\"text-align: right;\">\n",
       "      <th></th>\n",
       "      <th>Note: The data and information in this document is reflective of a hypothetical situation and client. This document is to be used for KPMG Virtual Internship purposes only.</th>\n",
       "      <th>Unnamed: 1</th>\n",
       "      <th>Unnamed: 2</th>\n",
       "      <th>Unnamed: 3</th>\n",
       "      <th>Unnamed: 4</th>\n",
       "      <th>Unnamed: 5</th>\n",
       "      <th>Unnamed: 6</th>\n",
       "      <th>Unnamed: 7</th>\n",
       "      <th>Unnamed: 8</th>\n",
       "      <th>Unnamed: 9</th>\n",
       "      <th>Unnamed: 10</th>\n",
       "      <th>Unnamed: 11</th>\n",
       "      <th>Unnamed: 12</th>\n",
       "    </tr>\n",
       "  </thead>\n",
       "  <tbody>\n",
       "    <tr>\n",
       "      <th>0</th>\n",
       "      <td>transaction_id</td>\n",
       "      <td>product_id</td>\n",
       "      <td>customer_id</td>\n",
       "      <td>transaction_date</td>\n",
       "      <td>online_order</td>\n",
       "      <td>order_status</td>\n",
       "      <td>brand</td>\n",
       "      <td>product_line</td>\n",
       "      <td>product_class</td>\n",
       "      <td>product_size</td>\n",
       "      <td>list_price</td>\n",
       "      <td>standard_cost</td>\n",
       "      <td>product_first_sold_date</td>\n",
       "    </tr>\n",
       "  </tbody>\n",
       "</table>\n",
       "</div>"
      ],
      "text/plain": [
       "  Note: The data and information in this document is reflective of a hypothetical situation and client. This document is to be used for KPMG Virtual Internship purposes only.   \\\n",
       "0                                     transaction_id                                                                                                                              \n",
       "\n",
       "   Unnamed: 1   Unnamed: 2        Unnamed: 3    Unnamed: 4    Unnamed: 5  \\\n",
       "0  product_id  customer_id  transaction_date  online_order  order_status   \n",
       "\n",
       "  Unnamed: 6    Unnamed: 7     Unnamed: 8    Unnamed: 9 Unnamed: 10  \\\n",
       "0      brand  product_line  product_class  product_size  list_price   \n",
       "\n",
       "     Unnamed: 11              Unnamed: 12  \n",
       "0  standard_cost  product_first_sold_date  "
      ]
     },
     "execution_count": 241,
     "metadata": {},
     "output_type": "execute_result"
    }
   ],
   "source": [
    "Transactions = pd.read_csv('Transactions.csv')\n",
    "Transactions.head(1)"
   ]
  },
  {
   "cell_type": "code",
   "execution_count": 242,
   "id": "5524080c-803c-45a7-9734-a6d5adf5c327",
   "metadata": {},
   "outputs": [
    {
     "data": {
      "text/html": [
       "<div>\n",
       "<style scoped>\n",
       "    .dataframe tbody tr th:only-of-type {\n",
       "        vertical-align: middle;\n",
       "    }\n",
       "\n",
       "    .dataframe tbody tr th {\n",
       "        vertical-align: top;\n",
       "    }\n",
       "\n",
       "    .dataframe thead th {\n",
       "        text-align: right;\n",
       "    }\n",
       "</style>\n",
       "<table border=\"1\" class=\"dataframe\">\n",
       "  <thead>\n",
       "    <tr style=\"text-align: right;\">\n",
       "      <th></th>\n",
       "      <th>transaction_id</th>\n",
       "      <th>product_id</th>\n",
       "      <th>customer_id</th>\n",
       "      <th>transaction_date</th>\n",
       "      <th>online_order</th>\n",
       "      <th>order_status</th>\n",
       "      <th>brand</th>\n",
       "      <th>product_line</th>\n",
       "      <th>product_class</th>\n",
       "      <th>product_size</th>\n",
       "      <th>list_price</th>\n",
       "      <th>standard_cost</th>\n",
       "      <th>product_first_sold_date</th>\n",
       "    </tr>\n",
       "  </thead>\n",
       "  <tbody>\n",
       "    <tr>\n",
       "      <th>1</th>\n",
       "      <td>1</td>\n",
       "      <td>2</td>\n",
       "      <td>2950</td>\n",
       "      <td>42791</td>\n",
       "      <td>False</td>\n",
       "      <td>Approved</td>\n",
       "      <td>Solex</td>\n",
       "      <td>Standard</td>\n",
       "      <td>medium</td>\n",
       "      <td>medium</td>\n",
       "      <td>71.49</td>\n",
       "      <td>53.62</td>\n",
       "      <td>41245</td>\n",
       "    </tr>\n",
       "  </tbody>\n",
       "</table>\n",
       "</div>"
      ],
      "text/plain": [
       "  transaction_id product_id customer_id transaction_date online_order  \\\n",
       "1              1          2        2950            42791        False   \n",
       "\n",
       "  order_status  brand product_line product_class product_size list_price  \\\n",
       "1     Approved  Solex     Standard        medium       medium      71.49   \n",
       "\n",
       "  standard_cost product_first_sold_date  \n",
       "1         53.62                   41245  "
      ]
     },
     "execution_count": 242,
     "metadata": {},
     "output_type": "execute_result"
    }
   ],
   "source": [
    "def titlehead(x):\n",
    "    x.rename(columns=x.iloc[0], inplace = True)\n",
    "    x.drop([0], inplace = True)\n",
    "    \n",
    "# applying the function on the data sets\n",
    "titlehead(Transactions)\n",
    "# checking for results\n",
    "Transactions.head(1)"
   ]
  },
  {
   "cell_type": "code",
   "execution_count": 243,
   "id": "6e3740d5-3534-416f-a4f4-f8057612c458",
   "metadata": {},
   "outputs": [
    {
     "data": {
      "text/plain": [
       "(20000, 13)"
      ]
     },
     "execution_count": 243,
     "metadata": {},
     "output_type": "execute_result"
    }
   ],
   "source": [
    "Transactions.shape"
   ]
  },
  {
   "cell_type": "code",
   "execution_count": 244,
   "id": "90b7a0f5-2fb9-4db3-87cc-fc03779344d0",
   "metadata": {},
   "outputs": [
    {
     "name": "stdout",
     "output_type": "stream",
     "text": [
      "<class 'pandas.core.frame.DataFrame'>\n",
      "RangeIndex: 20000 entries, 1 to 20000\n",
      "Data columns (total 13 columns):\n",
      " #   Column                   Non-Null Count  Dtype \n",
      "---  ------                   --------------  ----- \n",
      " 0   transaction_id           20000 non-null  object\n",
      " 1   product_id               20000 non-null  object\n",
      " 2   customer_id              20000 non-null  object\n",
      " 3   transaction_date         20000 non-null  object\n",
      " 4   online_order             19640 non-null  object\n",
      " 5   order_status             20000 non-null  object\n",
      " 6   brand                    19803 non-null  object\n",
      " 7   product_line             19803 non-null  object\n",
      " 8   product_class            19803 non-null  object\n",
      " 9   product_size             19803 non-null  object\n",
      " 10  list_price               20000 non-null  object\n",
      " 11  standard_cost            19803 non-null  object\n",
      " 12  product_first_sold_date  19803 non-null  object\n",
      "dtypes: object(13)\n",
      "memory usage: 2.0+ MB\n"
     ]
    }
   ],
   "source": [
    "Transactions.info()"
   ]
  },
  {
   "cell_type": "raw",
   "id": "18c336f3-bbfb-4e84-83dc-c705bed1694f",
   "metadata": {},
   "source": [
    "Based on this information, the dataset has the following issues:\n",
    "\n",
    "* Missing values in the \"online_order\", \"brand\", \"product_line\", \"product_class\", \"product_size\", \"standard_cost\", and             \"product_first_sold_date\" columns.\n",
    "\n",
    "* The \"online_order\" column is of type float64, which is unnecessary since it only has values of 0 or 1.\n",
    "\n",
    "* The \"transaction_date\" column is of type int64, thus needs to be converted to a datetime object.\n",
    "\n",
    "* The \"product_first_sold_date\" column is of type float64, thus needs to be converted to a datetime object."
   ]
  },
  {
   "cell_type": "code",
   "execution_count": 245,
   "id": "e94b7bf9-099f-4b10-bed5-070be22f7fcd",
   "metadata": {},
   "outputs": [],
   "source": [
    "# Convert the 'date' column to datetime format\n",
    "Transactions['transaction_date'] = pd.to_numeric(Transactions['transaction_date'], errors='coerce')\n",
    "Transactions['transaction_date'] = pd.to_datetime(Transactions['transaction_date'], unit='d', origin=pd.Timestamp('1900-01-01'))\n",
    "Transactions['transaction_date'] = Transactions['transaction_date'] - pd.Timedelta(days=2)\n"
   ]
  },
  {
   "cell_type": "code",
   "execution_count": 246,
   "id": "025225ff-e551-4296-baa9-e7d37fb99bbc",
   "metadata": {},
   "outputs": [],
   "source": [
    "Transactions['product_first_sold_date'] = pd.to_numeric(Transactions['product_first_sold_date'], errors='coerce')\n",
    "\n",
    "Transactions['product_first_sold_date'] = pd.to_datetime(Transactions['product_first_sold_date'], unit='d', origin=pd.Timestamp('1900-01-01'))\n",
    "Transactions['product_first_sold_date'] = Transactions['product_first_sold_date'] - pd.Timedelta(days=2)\n"
   ]
  },
  {
   "cell_type": "code",
   "execution_count": 247,
   "id": "227a3d22-97b6-4e1a-ac97-45bffa1acd0b",
   "metadata": {},
   "outputs": [],
   "source": [
    "Transactions['list_price']=pd.to_numeric(Transactions['list_price'])\n",
    "Transactions['standard_cost']=pd.to_numeric(Transactions['standard_cost'])\n",
    "\n",
    "Transactions['online_order'] = Transactions['online_order'].fillna(0).astype(bool)"
   ]
  },
  {
   "cell_type": "code",
   "execution_count": 248,
   "id": "f0a5df8a-ae80-47bf-b793-54fa5f3d941a",
   "metadata": {},
   "outputs": [
    {
     "name": "stdout",
     "output_type": "stream",
     "text": [
      "<class 'pandas.core.frame.DataFrame'>\n",
      "RangeIndex: 20000 entries, 1 to 20000\n",
      "Data columns (total 13 columns):\n",
      " #   Column                   Non-Null Count  Dtype         \n",
      "---  ------                   --------------  -----         \n",
      " 0   transaction_id           20000 non-null  object        \n",
      " 1   product_id               20000 non-null  object        \n",
      " 2   customer_id              20000 non-null  object        \n",
      " 3   transaction_date         20000 non-null  datetime64[ns]\n",
      " 4   online_order             20000 non-null  bool          \n",
      " 5   order_status             20000 non-null  object        \n",
      " 6   brand                    19803 non-null  object        \n",
      " 7   product_line             19803 non-null  object        \n",
      " 8   product_class            19803 non-null  object        \n",
      " 9   product_size             19803 non-null  object        \n",
      " 10  list_price               20000 non-null  float64       \n",
      " 11  standard_cost            19803 non-null  float64       \n",
      " 12  product_first_sold_date  19803 non-null  datetime64[ns]\n",
      "dtypes: bool(1), datetime64[ns](2), float64(2), object(8)\n",
      "memory usage: 1.9+ MB\n"
     ]
    }
   ],
   "source": [
    "# Checking results\n",
    "Transactions.info()"
   ]
  },
  {
   "cell_type": "code",
   "execution_count": 249,
   "id": "93dec500-73e4-4519-a2cb-d4d8c7482d20",
   "metadata": {},
   "outputs": [
    {
     "name": "stderr",
     "output_type": "stream",
     "text": [
      "/tmp/ipykernel_7092/3382108674.py:1: FutureWarning: Dropping of nuisance columns in DataFrame reductions (with 'numeric_only=None') is deprecated; in a future version this will raise TypeError.  Select only valid columns before calling the reduction.\n",
      "  Transactions[Transactions.duplicated()].sum()\n"
     ]
    },
    {
     "data": {
      "text/plain": [
       "transaction_id    0.0\n",
       "product_id        0.0\n",
       "customer_id       0.0\n",
       "online_order      0.0\n",
       "order_status      0.0\n",
       "brand             0.0\n",
       "product_line      0.0\n",
       "product_class     0.0\n",
       "product_size      0.0\n",
       "list_price        0.0\n",
       "standard_cost     0.0\n",
       "dtype: float64"
      ]
     },
     "execution_count": 249,
     "metadata": {},
     "output_type": "execute_result"
    }
   ],
   "source": [
    "Transactions[Transactions.duplicated()].sum()"
   ]
  },
  {
   "cell_type": "code",
   "execution_count": 250,
   "id": "822313ad-3869-4e13-85de-177907b8da9f",
   "metadata": {},
   "outputs": [
    {
     "data": {
      "text/html": [
       "<div>\n",
       "<style scoped>\n",
       "    .dataframe tbody tr th:only-of-type {\n",
       "        vertical-align: middle;\n",
       "    }\n",
       "\n",
       "    .dataframe tbody tr th {\n",
       "        vertical-align: top;\n",
       "    }\n",
       "\n",
       "    .dataframe thead th {\n",
       "        text-align: right;\n",
       "    }\n",
       "</style>\n",
       "<table border=\"1\" class=\"dataframe\">\n",
       "  <thead>\n",
       "    <tr style=\"text-align: right;\">\n",
       "      <th></th>\n",
       "      <th>Missing (%)</th>\n",
       "    </tr>\n",
       "  </thead>\n",
       "  <tbody>\n",
       "    <tr>\n",
       "      <th>transaction_id</th>\n",
       "      <td>0.0</td>\n",
       "    </tr>\n",
       "    <tr>\n",
       "      <th>product_id</th>\n",
       "      <td>0.0</td>\n",
       "    </tr>\n",
       "    <tr>\n",
       "      <th>customer_id</th>\n",
       "      <td>0.0</td>\n",
       "    </tr>\n",
       "    <tr>\n",
       "      <th>transaction_date</th>\n",
       "      <td>0.0</td>\n",
       "    </tr>\n",
       "    <tr>\n",
       "      <th>online_order</th>\n",
       "      <td>0.0</td>\n",
       "    </tr>\n",
       "    <tr>\n",
       "      <th>order_status</th>\n",
       "      <td>0.0</td>\n",
       "    </tr>\n",
       "    <tr>\n",
       "      <th>brand</th>\n",
       "      <td>1.0</td>\n",
       "    </tr>\n",
       "    <tr>\n",
       "      <th>product_line</th>\n",
       "      <td>1.0</td>\n",
       "    </tr>\n",
       "    <tr>\n",
       "      <th>product_class</th>\n",
       "      <td>1.0</td>\n",
       "    </tr>\n",
       "    <tr>\n",
       "      <th>product_size</th>\n",
       "      <td>1.0</td>\n",
       "    </tr>\n",
       "    <tr>\n",
       "      <th>list_price</th>\n",
       "      <td>0.0</td>\n",
       "    </tr>\n",
       "    <tr>\n",
       "      <th>standard_cost</th>\n",
       "      <td>1.0</td>\n",
       "    </tr>\n",
       "    <tr>\n",
       "      <th>product_first_sold_date</th>\n",
       "      <td>1.0</td>\n",
       "    </tr>\n",
       "  </tbody>\n",
       "</table>\n",
       "</div>"
      ],
      "text/plain": [
       "                         Missing (%)\n",
       "transaction_id                   0.0\n",
       "product_id                       0.0\n",
       "customer_id                      0.0\n",
       "transaction_date                 0.0\n",
       "online_order                     0.0\n",
       "order_status                     0.0\n",
       "brand                            1.0\n",
       "product_line                     1.0\n",
       "product_class                    1.0\n",
       "product_size                     1.0\n",
       "list_price                       0.0\n",
       "standard_cost                    1.0\n",
       "product_first_sold_date          1.0"
      ]
     },
     "execution_count": 250,
     "metadata": {},
     "output_type": "execute_result"
    }
   ],
   "source": [
    "# Percentage of missing points in each variable\n",
    "percent_missing_Transactions = round(Transactions.isnull().sum() / len(Transactions) * 100, 1)\n",
    "missing_Transactions = pd.DataFrame(percent_missing_Transactions, columns=[\"Missing (%)\"])\n",
    "missing_Transactions"
   ]
  },
  {
   "cell_type": "raw",
   "id": "e03e3a4c-7e3c-468b-968f-cdd603fb6b01",
   "metadata": {},
   "source": [
    "* For the 'Online Order' variable, we observed only 1.8% missing values. Hence, we will fill them with the mode.\n",
    "* The variables 'Brand', 'Product Line', 'Product Class', 'Product Size', 'Standard Cost', and 'Product First Sold Date' all       have 1% missing values ==> They have a similar pattern of missing data. And are unlikely to affect our analysis\n",
    "  Therefore, we will remove the rows that contain the null values in these variables."
   ]
  },
  {
   "cell_type": "code",
   "execution_count": 251,
   "id": "b23471ba-1bfe-4fe1-8ffa-2c81f8b3a662",
   "metadata": {},
   "outputs": [],
   "source": [
    "# Fill missing values for \"online_order\" with the mode\n",
    "mode = Transactions['online_order'].mode()[0]\n",
    "Transactions['online_order'] = Transactions['online_order'].fillna(mode)\n",
    "\n",
    "# Remove rows with missing values for other columns\n",
    "Transactions = Transactions.dropna(subset=['brand', 'product_line', 'product_class', 'product_size', 'standard_cost', 'product_first_sold_date'])"
   ]
  },
  {
   "cell_type": "code",
   "execution_count": 252,
   "id": "7c11b689-cdb6-4f9e-85da-4576ebb5c608",
   "metadata": {},
   "outputs": [
    {
     "data": {
      "text/plain": [
       "transaction_id             0\n",
       "product_id                 0\n",
       "customer_id                0\n",
       "transaction_date           0\n",
       "online_order               0\n",
       "order_status               0\n",
       "brand                      0\n",
       "product_line               0\n",
       "product_class              0\n",
       "product_size               0\n",
       "list_price                 0\n",
       "standard_cost              0\n",
       "product_first_sold_date    0\n",
       "dtype: int64"
      ]
     },
     "execution_count": 252,
     "metadata": {},
     "output_type": "execute_result"
    }
   ],
   "source": [
    "# checking results\n",
    "Transactions.isnull().sum()"
   ]
  },
  {
   "cell_type": "code",
   "execution_count": 253,
   "id": "0e3d4456-ac6c-4b15-acc6-06d50ec13c44",
   "metadata": {},
   "outputs": [
    {
     "data": {
      "text/plain": [
       "['transaction_id',\n",
       " 'product_id',\n",
       " 'customer_id',\n",
       " 'order_status',\n",
       " 'brand',\n",
       " 'product_line',\n",
       " 'product_class',\n",
       " 'product_size']"
      ]
     },
     "execution_count": 253,
     "metadata": {},
     "output_type": "execute_result"
    }
   ],
   "source": [
    "# Collecting the categorical columns into  list\n",
    "cat_col=[]\n",
    "for x in Transactions.dtypes.index:\n",
    "    if Transactions.dtypes[x]=='object':\n",
    "        cat_col.append(x)\n",
    "cat_col"
   ]
  },
  {
   "cell_type": "code",
   "execution_count": 254,
   "id": "0a75a205-3651-4caf-bfcd-a2fdebbc31ce",
   "metadata": {},
   "outputs": [
    {
     "name": "stdout",
     "output_type": "stream",
     "text": [
      "transaction_id\n",
      "\n",
      "0\n",
      "['1' '2' '3' ... '19998' '19999' '20000']\n",
      "\n",
      "1        1\n",
      "13324    1\n",
      "13331    1\n",
      "13330    1\n",
      "13329    1\n",
      "        ..\n",
      "6654     1\n",
      "6653     1\n",
      "6652     1\n",
      "6651     1\n",
      "20000    1\n",
      "Name: transaction_id, Length: 19803, dtype: int64\n",
      "\n",
      "_______________________________________________________________________________________\n",
      "\n",
      "product_id\n",
      "\n",
      "19702\n",
      "['2' '3' '37' '88' '78' '25' '22' '15' '67' '12' '5' '61' '35' '16' '79'\n",
      " '33' '54' '27' '82' '89' '64' '19' '72' '91' '1' '99' '0' '92' '14' '44'\n",
      " '76' '46' '55' '66' '81' '86' '32' '77' '96' '6' '47' '94' '93' '60' '28'\n",
      " '4' '38' '56' '58' '50' '80' '87' '84' '21' '31' '62' '17' '73' '45' '49'\n",
      " '95' '18' '70' '26' '39' '36' '98' '75' '42' '20' '24' '53' '65' '29'\n",
      " '11' '10' '7' '41' '9' '69' '90' '97' '100' '74' '71' '34' '57' '23' '51'\n",
      " '59' '63' '40' '8' '13' '30' '48' '68' '83' '43' '52' '85']\n",
      "\n",
      "0      1181\n",
      "3       354\n",
      "1       311\n",
      "35      268\n",
      "38      267\n",
      "       ... \n",
      "71      137\n",
      "8       136\n",
      "16      136\n",
      "100     130\n",
      "47      121\n",
      "Name: product_id, Length: 101, dtype: int64\n",
      "\n",
      "_______________________________________________________________________________________\n",
      "\n",
      "customer_id\n",
      "\n",
      "16309\n",
      "['2950' '3120' '402' ... '2764' '3168' '3464']\n",
      "\n",
      "1068    14\n",
      "2183    14\n",
      "2476    14\n",
      "2548    13\n",
      "2072    13\n",
      "        ..\n",
      "1846     1\n",
      "1757     1\n",
      "1865     1\n",
      "774      1\n",
      "3464     1\n",
      "Name: customer_id, Length: 3494, dtype: int64\n",
      "\n",
      "_______________________________________________________________________________________\n",
      "\n",
      "order_status\n",
      "\n",
      "19801\n",
      "['Approved' 'Cancelled']\n",
      "\n",
      "Approved     19625\n",
      "Cancelled      178\n",
      "Name: order_status, dtype: int64\n",
      "\n",
      "_______________________________________________________________________________________\n",
      "\n",
      "brand\n",
      "\n",
      "19797\n",
      "['Solex' 'Trek Bicycles' 'OHM Cycles' 'Norco Bicycles' 'Giant Bicycles'\n",
      " 'WeareA2B']\n",
      "\n",
      "Solex             4253\n",
      "Giant Bicycles    3312\n",
      "WeareA2B          3295\n",
      "OHM Cycles        3043\n",
      "Trek Bicycles     2990\n",
      "Norco Bicycles    2910\n",
      "Name: brand, dtype: int64\n",
      "\n",
      "_______________________________________________________________________________________\n",
      "\n",
      "product_line\n",
      "\n",
      "19799\n",
      "['Standard' 'Road' 'Mountain' 'Touring']\n",
      "\n",
      "Standard    14176\n",
      "Road         3970\n",
      "Touring      1234\n",
      "Mountain      423\n",
      "Name: product_line, dtype: int64\n",
      "\n",
      "_______________________________________________________________________________________\n",
      "\n",
      "product_class\n",
      "\n",
      "19800\n",
      "['medium' 'low' 'high']\n",
      "\n",
      "medium    13826\n",
      "high       3013\n",
      "low        2964\n",
      "Name: product_class, dtype: int64\n",
      "\n",
      "_______________________________________________________________________________________\n",
      "\n",
      "product_size\n",
      "\n",
      "19800\n",
      "['medium' 'large' 'small']\n",
      "\n",
      "medium    12990\n",
      "large      3976\n",
      "small      2837\n",
      "Name: product_size, dtype: int64\n",
      "\n",
      "_______________________________________________________________________________________\n",
      "\n"
     ]
    }
   ],
   "source": [
    "#checking for duplicated values in the categorical columns nd the accuracy of the values\n",
    "for col in cat_col:\n",
    "    print(col)\n",
    "    print()\n",
    "    # Check for duplicates \n",
    "    print(Transactions[col].duplicated().sum())\n",
    "    print(Transactions[col].unique())\n",
    "    print()\n",
    "    # Check the accuracy of values in \"order_status\"\n",
    "    print(Transactions[col].value_counts())\n",
    "    print()\n",
    "    print('_______________________________________________________________________________________')\n",
    "    print()"
   ]
  },
  {
   "cell_type": "code",
   "execution_count": 255,
   "id": "469a488f-7068-4924-a865-fa392433a675",
   "metadata": {},
   "outputs": [
    {
     "data": {
      "text/html": [
       "<div>\n",
       "<style scoped>\n",
       "    .dataframe tbody tr th:only-of-type {\n",
       "        vertical-align: middle;\n",
       "    }\n",
       "\n",
       "    .dataframe tbody tr th {\n",
       "        vertical-align: top;\n",
       "    }\n",
       "\n",
       "    .dataframe thead th {\n",
       "        text-align: right;\n",
       "    }\n",
       "</style>\n",
       "<table border=\"1\" class=\"dataframe\">\n",
       "  <thead>\n",
       "    <tr style=\"text-align: right;\">\n",
       "      <th></th>\n",
       "      <th>transaction_id</th>\n",
       "      <th>product_id</th>\n",
       "      <th>customer_id</th>\n",
       "      <th>transaction_date</th>\n",
       "      <th>online_order</th>\n",
       "      <th>order_status</th>\n",
       "      <th>brand</th>\n",
       "      <th>product_line</th>\n",
       "      <th>product_class</th>\n",
       "      <th>product_size</th>\n",
       "      <th>list_price</th>\n",
       "      <th>standard_cost</th>\n",
       "      <th>product_first_sold_date</th>\n",
       "    </tr>\n",
       "  </thead>\n",
       "  <tbody>\n",
       "    <tr>\n",
       "      <th>1</th>\n",
       "      <td>1</td>\n",
       "      <td>2</td>\n",
       "      <td>2950</td>\n",
       "      <td>2017-02-25</td>\n",
       "      <td>True</td>\n",
       "      <td>Approved</td>\n",
       "      <td>Solex</td>\n",
       "      <td>Standard</td>\n",
       "      <td>medium</td>\n",
       "      <td>medium</td>\n",
       "      <td>71.49</td>\n",
       "      <td>53.62</td>\n",
       "      <td>2012-12-02</td>\n",
       "    </tr>\n",
       "    <tr>\n",
       "      <th>2</th>\n",
       "      <td>2</td>\n",
       "      <td>3</td>\n",
       "      <td>3120</td>\n",
       "      <td>2017-05-21</td>\n",
       "      <td>True</td>\n",
       "      <td>Approved</td>\n",
       "      <td>Trek Bicycles</td>\n",
       "      <td>Standard</td>\n",
       "      <td>medium</td>\n",
       "      <td>large</td>\n",
       "      <td>2091.47</td>\n",
       "      <td>388.92</td>\n",
       "      <td>2014-03-03</td>\n",
       "    </tr>\n",
       "    <tr>\n",
       "      <th>3</th>\n",
       "      <td>3</td>\n",
       "      <td>37</td>\n",
       "      <td>402</td>\n",
       "      <td>2017-10-16</td>\n",
       "      <td>True</td>\n",
       "      <td>Approved</td>\n",
       "      <td>OHM Cycles</td>\n",
       "      <td>Standard</td>\n",
       "      <td>low</td>\n",
       "      <td>medium</td>\n",
       "      <td>1793.43</td>\n",
       "      <td>248.82</td>\n",
       "      <td>1999-07-20</td>\n",
       "    </tr>\n",
       "    <tr>\n",
       "      <th>4</th>\n",
       "      <td>4</td>\n",
       "      <td>88</td>\n",
       "      <td>3135</td>\n",
       "      <td>2017-08-31</td>\n",
       "      <td>True</td>\n",
       "      <td>Approved</td>\n",
       "      <td>Norco Bicycles</td>\n",
       "      <td>Standard</td>\n",
       "      <td>medium</td>\n",
       "      <td>medium</td>\n",
       "      <td>1198.46</td>\n",
       "      <td>381.10</td>\n",
       "      <td>1998-12-16</td>\n",
       "    </tr>\n",
       "    <tr>\n",
       "      <th>5</th>\n",
       "      <td>5</td>\n",
       "      <td>78</td>\n",
       "      <td>787</td>\n",
       "      <td>2017-10-01</td>\n",
       "      <td>True</td>\n",
       "      <td>Approved</td>\n",
       "      <td>Giant Bicycles</td>\n",
       "      <td>Standard</td>\n",
       "      <td>medium</td>\n",
       "      <td>large</td>\n",
       "      <td>1765.30</td>\n",
       "      <td>709.48</td>\n",
       "      <td>2015-08-10</td>\n",
       "    </tr>\n",
       "  </tbody>\n",
       "</table>\n",
       "</div>"
      ],
      "text/plain": [
       "  transaction_id product_id customer_id transaction_date  online_order  \\\n",
       "1              1          2        2950       2017-02-25          True   \n",
       "2              2          3        3120       2017-05-21          True   \n",
       "3              3         37         402       2017-10-16          True   \n",
       "4              4         88        3135       2017-08-31          True   \n",
       "5              5         78         787       2017-10-01          True   \n",
       "\n",
       "  order_status           brand product_line product_class product_size  \\\n",
       "1     Approved           Solex     Standard        medium       medium   \n",
       "2     Approved   Trek Bicycles     Standard        medium        large   \n",
       "3     Approved      OHM Cycles     Standard           low       medium   \n",
       "4     Approved  Norco Bicycles     Standard        medium       medium   \n",
       "5     Approved  Giant Bicycles     Standard        medium        large   \n",
       "\n",
       "   list_price  standard_cost product_first_sold_date  \n",
       "1       71.49          53.62              2012-12-02  \n",
       "2     2091.47         388.92              2014-03-03  \n",
       "3     1793.43         248.82              1999-07-20  \n",
       "4     1198.46         381.10              1998-12-16  \n",
       "5     1765.30         709.48              2015-08-10  "
      ]
     },
     "execution_count": 255,
     "metadata": {},
     "output_type": "execute_result"
    }
   ],
   "source": [
    "Transactions.head()"
   ]
  },
  {
   "cell_type": "markdown",
   "id": "29c904aa-d2fa-4f0d-8190-5ddabda73afa",
   "metadata": {},
   "source": [
    "\n",
    "Customer address dataset\n"
   ]
  },
  {
   "cell_type": "code",
   "execution_count": 151,
   "id": "2a99827e-0f63-4fb2-a14f-ef5bdd661512",
   "metadata": {},
   "outputs": [
    {
     "data": {
      "text/html": [
       "<div>\n",
       "<style scoped>\n",
       "    .dataframe tbody tr th:only-of-type {\n",
       "        vertical-align: middle;\n",
       "    }\n",
       "\n",
       "    .dataframe tbody tr th {\n",
       "        vertical-align: top;\n",
       "    }\n",
       "\n",
       "    .dataframe thead th {\n",
       "        text-align: right;\n",
       "    }\n",
       "</style>\n",
       "<table border=\"1\" class=\"dataframe\">\n",
       "  <thead>\n",
       "    <tr style=\"text-align: right;\">\n",
       "      <th></th>\n",
       "      <th>customer_id</th>\n",
       "      <th>address</th>\n",
       "      <th>postcode</th>\n",
       "      <th>state</th>\n",
       "      <th>country</th>\n",
       "      <th>property_valuation</th>\n",
       "    </tr>\n",
       "  </thead>\n",
       "  <tbody>\n",
       "    <tr>\n",
       "      <th>1</th>\n",
       "      <td>1</td>\n",
       "      <td>060 Morning Avenue</td>\n",
       "      <td>2016</td>\n",
       "      <td>New South Wales</td>\n",
       "      <td>Australia</td>\n",
       "      <td>10</td>\n",
       "    </tr>\n",
       "  </tbody>\n",
       "</table>\n",
       "</div>"
      ],
      "text/plain": [
       "  customer_id             address postcode            state    country  \\\n",
       "1           1  060 Morning Avenue     2016  New South Wales  Australia   \n",
       "\n",
       "  property_valuation  \n",
       "1                 10  "
      ]
     },
     "execution_count": 151,
     "metadata": {},
     "output_type": "execute_result"
    }
   ],
   "source": [
    "Customer_address = pd.read_csv('CustomerAddress.csv')\n",
    "def titlehead(x):\n",
    "    x.rename(columns=x.iloc[0], inplace = True)\n",
    "    x.drop([0], inplace = True)\n",
    "    \n",
    "# applying the function on the data sets\n",
    "titlehead(Customer_address)\n",
    "# checking for results\n",
    "Customer_address.head(1)"
   ]
  },
  {
   "cell_type": "code",
   "execution_count": 162,
   "id": "7bb86c9f-06f2-45b6-b41e-72717fb4e401",
   "metadata": {},
   "outputs": [
    {
     "data": {
      "text/plain": [
       "(3999, 6)"
      ]
     },
     "execution_count": 162,
     "metadata": {},
     "output_type": "execute_result"
    }
   ],
   "source": [
    "Customer_address.shape"
   ]
  },
  {
   "cell_type": "code",
   "execution_count": 159,
   "id": "2b291c91-788b-43c4-b8a6-8b7cc115924b",
   "metadata": {},
   "outputs": [
    {
     "name": "stdout",
     "output_type": "stream",
     "text": [
      "<class 'pandas.core.frame.DataFrame'>\n",
      "RangeIndex: 3999 entries, 1 to 3999\n",
      "Data columns (total 6 columns):\n",
      " #   Column              Non-Null Count  Dtype \n",
      "---  ------              --------------  ----- \n",
      " 0   customer_id         3999 non-null   object\n",
      " 1   address             3999 non-null   object\n",
      " 2   postcode            3999 non-null   object\n",
      " 3   state               3999 non-null   object\n",
      " 4   country             3999 non-null   object\n",
      " 5   property_valuation  3999 non-null   object\n",
      "dtypes: object(6)\n",
      "memory usage: 187.6+ KB\n"
     ]
    }
   ],
   "source": [
    "Customer_address.info()"
   ]
  },
  {
   "cell_type": "code",
   "execution_count": 157,
   "id": "58c949fe-8c2a-42e5-975e-b3651ec7974c",
   "metadata": {},
   "outputs": [
    {
     "name": "stderr",
     "output_type": "stream",
     "text": [
      "/tmp/ipykernel_7092/3457559891.py:1: UserWarning: Boolean Series key will be reindexed to match DataFrame index.\n",
      "  Customer_address[Customer_demographic.duplicated()].sum()\n"
     ]
    },
    {
     "data": {
      "text/plain": [
       "customer_id           0.0\n",
       "address               0.0\n",
       "postcode              0.0\n",
       "state                 0.0\n",
       "country               0.0\n",
       "property_valuation    0.0\n",
       "dtype: float64"
      ]
     },
     "execution_count": 157,
     "metadata": {},
     "output_type": "execute_result"
    }
   ],
   "source": [
    "Customer_address[Customer_demographic.duplicated()].sum()"
   ]
  },
  {
   "cell_type": "markdown",
   "id": "848b090e-f94c-4322-afbc-c08fa2852be8",
   "metadata": {},
   "source": [
    "Based on the information provided, there are a few issues with the dataset:\n",
    "The property_valuation column should have a numerical data type instead of an object data type. "
   ]
  },
  {
   "cell_type": "code",
   "execution_count": 163,
   "id": "b1db6d38-8645-4b75-a095-8b595b1baa39",
   "metadata": {},
   "outputs": [],
   "source": [
    "Customer_address['property_valuation']=pd.to_numeric(Customer_address['property_valuation'])"
   ]
  },
  {
   "cell_type": "code",
   "execution_count": 165,
   "id": "939a3eae-8303-42da-87a0-ca333adb342b",
   "metadata": {},
   "outputs": [
    {
     "name": "stdout",
     "output_type": "stream",
     "text": [
      "['postcode', 'state', 'country']\n"
     ]
    }
   ],
   "source": [
    "cat_col=[]\n",
    "for x in Customer_address.dtypes.index:\n",
    "    if Customer_address.dtypes[x]=='object':\n",
    "        cat_col.append(x)\n",
    "cat_col\n",
    "cols_to_remove = ['customer_id', 'address']\n",
    "for col in cols_to_remove:\n",
    "    cat_col.remove(col)\n",
    "\n",
    "print(cat_col)"
   ]
  },
  {
   "cell_type": "code",
   "execution_count": 167,
   "id": "77dbf1c1-a436-46fb-961f-52673f5ac33b",
   "metadata": {},
   "outputs": [
    {
     "name": "stdout",
     "output_type": "stream",
     "text": [
      "postcode\n",
      "\n",
      "3126\n",
      "['2016' '2153' '4211' '2448' '3216' '2210' '2650' '2023' '3044' '4557'\n",
      " '3799' '2760' '2428' '3331' '3058' '2135' '2233' '2444' '4413' '4740'\n",
      " '3218' '4868' '4116' '2519' '2756' '2170' '4005' '4127' '2535' '4726'\n",
      " '4805' '2212' '2207' '3350' '3931' '4018' '4670' '2480' '3212' '2322'\n",
      " '3198' '2047' '4503' '2145' '4350' '2142' '2029' '2127' '4280' '2166'\n",
      " '2046' '2026' '2765' '2749' '2745' '3752' '2217' '2230' '3046' '3183'\n",
      " '2070' '2213' '4208' '2774' '4133' '4213' '4170' '2073' '3561' '2330'\n",
      " '3977' '2204' '2086' '2226' '2075' '2038' '2069' '2100' '3133' '3070'\n",
      " '2777' '2125' '2766' '2209' '2160' '2065' '2150' '2168' '4171' '2155'\n",
      " '2517' '2096' '2750' '2093' '3204' '4300' '3844' '4226' '3192' '2485'\n",
      " '2097' '4817' '2516' '3074' '4508' '4405' '2452' '2205' '4132' '4744'\n",
      " '2158' '3201' '4178' '2112' '2033' '4401' '3186' '4017' '2315' '2285'\n",
      " '2219' '4509' '2759' '2747' '2227' '2025' '3191' '3025' '2263' '2154'\n",
      " '2119' '3016' '4113' '2032' '4352' '3020' '2116' '3057' '2099' '3749'\n",
      " '2148' '3145' '2021' '2333' '2783' '2280' '4120' '3638' '2074' '2880'\n",
      " '2430' '4560' '2088' '2220' '3031' '2250' '2261' '3196' '4680' '3143'\n",
      " '2063' '3021' '2138' '4811' '2085' '3084' '3170' '2066' '4078' '2222'\n",
      " '3152' '2159' '4655' '4220' '4012' '2015' '2776' '3011' '2761' '2502'\n",
      " '2110' '2566' '2506' '2508' '2036' '2018' '3666' '4514' '2525' '4152'\n",
      " '2200' '3023' '3500' '2283' '2102' '2040' '2304' '2340' '3580' '3355'\n",
      " '2287' '2324' '2323' '2320' '2346' '2031' '2064' '2176' '3195' '2010'\n",
      " '2768' '2752' '3802' '3071' '4735' '3081' '3205' '2165' '3125' '4214'\n",
      " '2030' '2767' '2798' '2117' '4551' '3064' '3810' '4151' '2830' '3030'\n",
      " '4812' '2141' '3029' '2173' '3199' '4506' '2035' '3340' '3182' '2450'\n",
      " '2216' '3796' '3197' '2232' '2365' '4701' '4210' '2223' '4122' '2515'\n",
      " '3437' '3338' '2203' '3356' '3223' '3032' '3105' '3101' '2763' '2089'\n",
      " '2126' '2147' '2251' '3127' '3087' '3131' '3134' '2193' '4055' '2530'\n",
      " '4217' '4020' '2179' '3130' '4570' '3215' '3165' '3936' '2265' '3034'\n",
      " '2062' '2162' '3033' '2144' '3805' '2642' '3228' '3444' '2076' '4124'\n",
      " '4305' '2579' '2835' '3337' '2536' '2770' '2646' '4558' '2211' '2570'\n",
      " '4552' '3082' '2360' '4223' '4370' '3150' '2549' '3040' '4209' '4173'\n",
      " '2068' '3806' '2259' '2260' '4074' '4215' '3008' '2748' '2567' '3015'\n",
      " '4221' '3121' '4870' '2118' '2050' '2120' '3812' '3111' '3012' '2197'\n",
      " '3162' '2037' '3141' '3178' '3564' '3550' '3775' '3004' '3185' '2447'\n",
      " '3910' '3621' '4702' '2133' '3075' '3911' '2487' '4123' '2151' '3156'\n",
      " '3126' '2027' '3124' '2564' '2049' '3690' '3282' '2576' '3108' '4165'\n",
      " '2218' '2190' '2337' '2307' '2121' '2716' '3168' '3076' '2478' '2560'\n",
      " '2087' '4505' '2630' '2225' '3013' '3136' '2111' '2106' '3930' '2291'\n",
      " '2305' '2300' '4179' '2539' '3207' '4340' '3137' '3068' '4580' '2041'\n",
      " '4504' '2306' '4075' '3975' '4114' '4341' '4022' '4820' '3028' '4035'\n",
      " '2326' '3429' '4218' '2380' '3171' '2565' '3850' '3807' '4800' '2577'\n",
      " '2199' '2134' '4053' '2800' '2048' '2194' '2557' '2548' '2262' '2463'\n",
      " '2481' '2072' '3155' '3095' '4207' '4110' '2017' '2769' '4562' '2571'\n",
      " '3480' '3551' '2753' '3093' '4615' '3174' '2192' '2290' '3073' '4810'\n",
      " '4121' '2229' '4118' '2594' '3750' '4019' '2540' '2293' '2143' '3630'\n",
      " '2164' '4869' '2137' '2354' '4814' '2282' '2292' '2171' '2077' '4873'\n",
      " '4006' '2754' '2152' '2067' '2122' '3976' '2000' '3175' '2156' '2228'\n",
      " '3187' '2680' '2527' '2163' '2336' '4415' '3139' '3147' '3623' '4356'\n",
      " '2034' '2196' '2177' '2234' '2537' '4720' '3765' '2486' '4511' '2795'\n",
      " '3188' '3730' '3060' '4131' '2518' '3158' '2477' '2195' '2575' '3400'\n",
      " '3037' '4507' '2113' '2443' '3177' '2641' '4212' '3241' '3428' '4227'\n",
      " '4034' '2558' '2460' '3173' '2289' '4500' '4825' '4161' '3757' '2871'\n",
      " '2146' '4380' '3024' '3934' '3109' '2136' '2484' '3225' '4068' '2214'\n",
      " '3809' '2454' '4556' '4573' '2131' '3184' '2619' '3138' '3441' '2101'\n",
      " '4510' '2647' '2731' '3284' '2573' '2206' '4815' '2526' '4502' '2710'\n",
      " '2090' '3038' '3142' '3442' '4064' '2529' '3039' '2061' '3644' '2104'\n",
      " '2044' '3043' '2873' '2541' '2321' '2079' '3072' '2007' '2620' '2231'\n",
      " '2580' '2020' '2852' '3677' '4818' '4519' '4806' '4610' '4512' '4306'\n",
      " '4304' '4301' '4205' '4051' '4130' '4115' '4164' '4128' '3940' '3939'\n",
      " '3840' '3804' '2582' '3747' '3620' '3151' '3380' '3280' '3224' '3222'\n",
      " '3226' '3190' '3169' '3163' '3161' '3791' '4119' '3140' '3818' '3106'\n",
      " '3099' '3754' '3756' '3061' '3048' '3036' '3107' '3022' '3049' '2870'\n",
      " '2762' '2794' '2773' '2640' '2439' '2528' '2440' '2325' '2161' '2848'\n",
      " '4878' '2775' '2224' '3219' '2441' '4877' '3264' '2681' '3018' '2043'\n",
      " '2107' '4567' '4011' '2221' '2028' '3941' '3146' '3585' '4105' '2094'\n",
      " '2284' '3808' '3149' '3114' '3352' '3129' '4154' '2114' '4721' '2011'\n",
      " '4157' '4799' '2095' '3103' '4224' '4344' '2009' '3144' '3181' '2665'\n",
      " '2474' '3166' '2820' '4059' '4160' '3189' '4030' '2042' '4032' '4103'\n",
      " '2868' '2358' '2449' '2299' '4014' '3056' '2281' '4007' '2318' '3821'\n",
      " '4109' '4216' '2470' '2563' '2264' '2445' '4060' '3214' '4077' '2327'\n",
      " '4104' '3172' '2505' '2115' '2469' '2705' '3088' '3966' '3912' '2446'\n",
      " '2810' '4061' '3083' '3915' '4153' '2267' '3458' '4421' '3505' '3006'\n",
      " '4037' '3918' '2335' '3079' '2400' '3148' '2092' '2714' '3555' '2008'\n",
      " '3631' '4228' '4101' '2022' '4568' '3115' '4343' '3116' '2208' '4125'\n",
      " '4070' '3194' '2533' '2758' '4159' '4879' '2500' '2298' '2178' '3240'\n",
      " '2671' '4455' '4650' '3160' '3250' '3342' '3523' '2350' '2785' '3995'\n",
      " '3351' '3000' '2462' '3041' '3260' '2534' '4565' '3618' '2780' '2167'\n",
      " '3279' '4106' '4700' '2799' '4564' '4860' '3922' '2256' '4031' '2779'\n",
      " '4660' '4073' '3067' '2843' '3027' '3066' '2572' '2128' '4054' '4069'\n",
      " '2343' '3377' '3065' '2295' '4270' '2316' '3179' '3933' '4883' '2081'\n",
      " '2471' '3053' '4285' '2546' '4275' '3132' '3042' '3085' '2071' '2821'\n",
      " '4390' '3793' '3128' '2869' '3616' '4750' '3059' '3153' '2130' '3213'\n",
      " '3862' '3610' '4102' '2060' '3786' '2019' '2191' '2713' '3094' '3122'\n",
      " '2850' '4272' '3051' '3634' '3803' '4515' '2700' '3123' '2294' '3978'\n",
      " '3305' '2198' '2778' '4730' '4155' '4000' '4225' '3556' '4575' '4715'\n",
      " '2429' '4555' '2132' '2045' '2024' '4076' '3321' '3193' '2390' '2806'\n",
      " '2257' '4172' '3078' '3104' '3860' '2658' '3052' '4163' '2590' '2550'\n",
      " '2877' '4311' '3089']\n",
      "\n",
      "2170    31\n",
      "2155    30\n",
      "2145    30\n",
      "2153    29\n",
      "3977    26\n",
      "        ..\n",
      "3808     1\n",
      "3114     1\n",
      "4721     1\n",
      "4799     1\n",
      "3089     1\n",
      "Name: postcode, Length: 873, dtype: int64\n",
      "\n",
      "_______________________________________________________________________________________\n",
      "\n",
      "state\n",
      "\n",
      "3994\n",
      "['New South Wales' 'QLD' 'VIC' 'NSW' 'Victoria']\n",
      "\n",
      "NSW                2054\n",
      "VIC                 939\n",
      "QLD                 838\n",
      "New South Wales      86\n",
      "Victoria             82\n",
      "Name: state, dtype: int64\n",
      "\n",
      "_______________________________________________________________________________________\n",
      "\n",
      "country\n",
      "\n",
      "3998\n",
      "['Australia']\n",
      "\n",
      "Australia    3999\n",
      "Name: country, dtype: int64\n",
      "\n",
      "_______________________________________________________________________________________\n",
      "\n"
     ]
    }
   ],
   "source": [
    "#checking for duplicated values in the categorical columns nd the accuracy of the values\n",
    "for col in cat_col:\n",
    "    print(col)\n",
    "    print()\n",
    "    # Check for duplicates \n",
    "    print(Customer_address[col].duplicated().sum())\n",
    "    print(Customer_address[col].unique())\n",
    "    print()\n",
    "    # Check the accuracy of values in \"order_status\"\n",
    "    print(Customer_address[col].value_counts())\n",
    "    print()\n",
    "    print('_______________________________________________________________________________________')\n",
    "    print()"
   ]
  },
  {
   "cell_type": "code",
   "execution_count": 260,
   "id": "ca700700-e12c-4b2c-9054-a8c36adb88bf",
   "metadata": {},
   "outputs": [],
   "source": [
    "Customer_address = pd.read_csv('Updated_address.csv')\n",
    "Customer_address['state'].replace('New South Wales', 'NSW', inplace=True)\n",
    "Customer_address['state'].replace('Victoria', 'VIC', inplace=True)"
   ]
  },
  {
   "cell_type": "markdown",
   "id": "f59fcfdc-f2a0-486c-8e4e-026dc8c4fd4e",
   "metadata": {},
   "source": [
    "\n",
    "Customer demographics dataset\n"
   ]
  },
  {
   "cell_type": "code",
   "execution_count": 171,
   "id": "9456eb39-ffc7-4695-b366-44d5e88b4aa2",
   "metadata": {},
   "outputs": [
    {
     "data": {
      "text/html": [
       "<div>\n",
       "<style scoped>\n",
       "    .dataframe tbody tr th:only-of-type {\n",
       "        vertical-align: middle;\n",
       "    }\n",
       "\n",
       "    .dataframe tbody tr th {\n",
       "        vertical-align: top;\n",
       "    }\n",
       "\n",
       "    .dataframe thead th {\n",
       "        text-align: right;\n",
       "    }\n",
       "</style>\n",
       "<table border=\"1\" class=\"dataframe\">\n",
       "  <thead>\n",
       "    <tr style=\"text-align: right;\">\n",
       "      <th></th>\n",
       "      <th>Note: The data and information in this document is reflective of a hypothetical situation and client. This document is to be used for KPMG Virtual Internship purposes only.</th>\n",
       "      <th>Unnamed: 1</th>\n",
       "      <th>Unnamed: 2</th>\n",
       "      <th>Unnamed: 3</th>\n",
       "      <th>Unnamed: 4</th>\n",
       "      <th>Unnamed: 5</th>\n",
       "      <th>Unnamed: 6</th>\n",
       "      <th>Unnamed: 7</th>\n",
       "      <th>Unnamed: 8</th>\n",
       "      <th>Unnamed: 9</th>\n",
       "      <th>Unnamed: 10</th>\n",
       "      <th>Unnamed: 11</th>\n",
       "      <th>Unnamed: 12</th>\n",
       "    </tr>\n",
       "  </thead>\n",
       "  <tbody>\n",
       "    <tr>\n",
       "      <th>0</th>\n",
       "      <td>customer_id</td>\n",
       "      <td>first_name</td>\n",
       "      <td>last_name</td>\n",
       "      <td>gender</td>\n",
       "      <td>past_3_years_bike_related_purchases</td>\n",
       "      <td>DOB</td>\n",
       "      <td>job_title</td>\n",
       "      <td>job_industry_category</td>\n",
       "      <td>wealth_segment</td>\n",
       "      <td>deceased_indicator</td>\n",
       "      <td>default</td>\n",
       "      <td>owns_car</td>\n",
       "      <td>tenure</td>\n",
       "    </tr>\n",
       "    <tr>\n",
       "      <th>1</th>\n",
       "      <td>1</td>\n",
       "      <td>Laraine</td>\n",
       "      <td>Medendorp</td>\n",
       "      <td>F</td>\n",
       "      <td>93</td>\n",
       "      <td>1843-12-21</td>\n",
       "      <td>Executive Secretary</td>\n",
       "      <td>Health</td>\n",
       "      <td>Mass Customer</td>\n",
       "      <td>N</td>\n",
       "      <td>\"'</td>\n",
       "      <td>Yes</td>\n",
       "      <td>11</td>\n",
       "    </tr>\n",
       "  </tbody>\n",
       "</table>\n",
       "</div>"
      ],
      "text/plain": [
       "  Note: The data and information in this document is reflective of a hypothetical situation and client. This document is to be used for KPMG Virtual Internship purposes only.   \\\n",
       "0                                        customer_id                                                                                                                              \n",
       "1                                                  1                                                                                                                              \n",
       "\n",
       "   Unnamed: 1 Unnamed: 2 Unnamed: 3                           Unnamed: 4  \\\n",
       "0  first_name  last_name     gender  past_3_years_bike_related_purchases   \n",
       "1     Laraine  Medendorp          F                                   93   \n",
       "\n",
       "   Unnamed: 5           Unnamed: 6             Unnamed: 7      Unnamed: 8  \\\n",
       "0         DOB            job_title  job_industry_category  wealth_segment   \n",
       "1  1843-12-21  Executive Secretary                 Health   Mass Customer   \n",
       "\n",
       "           Unnamed: 9 Unnamed: 10 Unnamed: 11 Unnamed: 12  \n",
       "0  deceased_indicator     default    owns_car      tenure  \n",
       "1                   N          \"'         Yes          11  "
      ]
     },
     "execution_count": 171,
     "metadata": {},
     "output_type": "execute_result"
    }
   ],
   "source": [
    "Customer_demographic = pd.read_csv('CustomerDemographic.csv')\n",
    "Customer_demographic.head(2)"
   ]
  },
  {
   "cell_type": "code",
   "execution_count": 172,
   "id": "2da0418d-8417-4d07-a04a-e6aedba42b6c",
   "metadata": {},
   "outputs": [
    {
     "data": {
      "text/html": [
       "<div>\n",
       "<style scoped>\n",
       "    .dataframe tbody tr th:only-of-type {\n",
       "        vertical-align: middle;\n",
       "    }\n",
       "\n",
       "    .dataframe tbody tr th {\n",
       "        vertical-align: top;\n",
       "    }\n",
       "\n",
       "    .dataframe thead th {\n",
       "        text-align: right;\n",
       "    }\n",
       "</style>\n",
       "<table border=\"1\" class=\"dataframe\">\n",
       "  <thead>\n",
       "    <tr style=\"text-align: right;\">\n",
       "      <th></th>\n",
       "      <th>customer_id</th>\n",
       "      <th>first_name</th>\n",
       "      <th>last_name</th>\n",
       "      <th>gender</th>\n",
       "      <th>past_3_years_bike_related_purchases</th>\n",
       "      <th>DOB</th>\n",
       "      <th>job_title</th>\n",
       "      <th>job_industry_category</th>\n",
       "      <th>wealth_segment</th>\n",
       "      <th>deceased_indicator</th>\n",
       "      <th>default</th>\n",
       "      <th>owns_car</th>\n",
       "      <th>tenure</th>\n",
       "    </tr>\n",
       "  </thead>\n",
       "  <tbody>\n",
       "    <tr>\n",
       "      <th>1</th>\n",
       "      <td>1</td>\n",
       "      <td>Laraine</td>\n",
       "      <td>Medendorp</td>\n",
       "      <td>F</td>\n",
       "      <td>93</td>\n",
       "      <td>1843-12-21</td>\n",
       "      <td>Executive Secretary</td>\n",
       "      <td>Health</td>\n",
       "      <td>Mass Customer</td>\n",
       "      <td>N</td>\n",
       "      <td>\"'</td>\n",
       "      <td>Yes</td>\n",
       "      <td>11</td>\n",
       "    </tr>\n",
       "  </tbody>\n",
       "</table>\n",
       "</div>"
      ],
      "text/plain": [
       "  customer_id first_name  last_name gender  \\\n",
       "1           1    Laraine  Medendorp      F   \n",
       "\n",
       "  past_3_years_bike_related_purchases         DOB            job_title  \\\n",
       "1                                  93  1843-12-21  Executive Secretary   \n",
       "\n",
       "  job_industry_category wealth_segment deceased_indicator default owns_car  \\\n",
       "1                Health  Mass Customer                  N      \"'      Yes   \n",
       "\n",
       "  tenure  \n",
       "1     11  "
      ]
     },
     "execution_count": 172,
     "metadata": {},
     "output_type": "execute_result"
    }
   ],
   "source": [
    "#creating the function\n",
    "def titlehead(x):\n",
    "    x.rename(columns=x.iloc[0], inplace = True)\n",
    "    x.drop([0], inplace = True)\n",
    "    \n",
    "# applying the function on the data sets\n",
    "titlehead(Customer_demographic)\n",
    "# checking for results\n",
    "Customer_demographic.head(1)"
   ]
  },
  {
   "cell_type": "markdown",
   "id": "cdf10a18-72cc-4f80-915e-7a76acfef519",
   "metadata": {},
   "source": [
    "The first row has a DOB of 1843-12-21, this is clearly a mistake thus should be changed"
   ]
  },
  {
   "cell_type": "code",
   "execution_count": 173,
   "id": "7a3e6939-2051-41bb-9b01-d3e13091e903",
   "metadata": {},
   "outputs": [],
   "source": [
    "Customer_demographic.loc[0, \"DOB\"] = \"2002-12-23\""
   ]
  },
  {
   "cell_type": "code",
   "execution_count": 174,
   "id": "99fac767-3422-4c7d-bd97-0ab5d8244a96",
   "metadata": {},
   "outputs": [
    {
     "data": {
      "text/plain": [
       "(4001, 13)"
      ]
     },
     "execution_count": 174,
     "metadata": {},
     "output_type": "execute_result"
    }
   ],
   "source": [
    "Customer_demographic.shape"
   ]
  },
  {
   "cell_type": "code",
   "execution_count": 175,
   "id": "7d065732-7877-4f9d-9a63-1e4f01c7ad14",
   "metadata": {},
   "outputs": [
    {
     "name": "stdout",
     "output_type": "stream",
     "text": [
      "<class 'pandas.core.frame.DataFrame'>\n",
      "Int64Index: 4001 entries, 1 to 0\n",
      "Data columns (total 13 columns):\n",
      " #   Column                               Non-Null Count  Dtype \n",
      "---  ------                               --------------  ----- \n",
      " 0   customer_id                          4000 non-null   object\n",
      " 1   first_name                           4000 non-null   object\n",
      " 2   last_name                            3875 non-null   object\n",
      " 3   gender                               4000 non-null   object\n",
      " 4   past_3_years_bike_related_purchases  4000 non-null   object\n",
      " 5   DOB                                  3914 non-null   object\n",
      " 6   job_title                            3494 non-null   object\n",
      " 7   job_industry_category                3344 non-null   object\n",
      " 8   wealth_segment                       4000 non-null   object\n",
      " 9   deceased_indicator                   4000 non-null   object\n",
      " 10  default                              3698 non-null   object\n",
      " 11  owns_car                             4000 non-null   object\n",
      " 12  tenure                               3913 non-null   object\n",
      "dtypes: object(13)\n",
      "memory usage: 566.6+ KB\n"
     ]
    }
   ],
   "source": [
    "Customer_demographic.info()"
   ]
  },
  {
   "cell_type": "markdown",
   "id": "2d9e8b83-82e7-484c-99d7-a4eae1db33f7",
   "metadata": {},
   "source": [
    "Based on the information provided, there are a few issues with the dataset:\n",
    "\n",
    "   The \"DOB\" column is of type object, which needs to be converted to a datetime object for analysis.\n",
    "\n",
    "   The \"job_industry_category\" column has missing values.\n",
    "\n",
    "   The \"default\" column has missing values."
   ]
  },
  {
   "cell_type": "code",
   "execution_count": 176,
   "id": "833f660e-93b4-4f76-b332-fa55a7506300",
   "metadata": {},
   "outputs": [],
   "source": [
    "# Convert the 'date' column to datetime format\n",
    "Customer_demographic['DOB'] = pd.to_datetime(Customer_demographic['DOB'])"
   ]
  },
  {
   "cell_type": "code",
   "execution_count": 177,
   "id": "cb5c8317-e5fc-42ff-9d37-46e283a8b8fa",
   "metadata": {},
   "outputs": [],
   "source": [
    "Customer_demographic['past_3_years_bike_related_purchases']=pd.to_numeric(Customer_demographic['past_3_years_bike_related_purchases'])\n",
    "Customer_demographic['tenure']=pd.to_numeric(Customer_demographic['tenure'])"
   ]
  },
  {
   "cell_type": "code",
   "execution_count": 178,
   "id": "7492f1d3-7ed2-46d1-8acd-6c5eaa117e9e",
   "metadata": {},
   "outputs": [
    {
     "name": "stdout",
     "output_type": "stream",
     "text": [
      "<class 'pandas.core.frame.DataFrame'>\n",
      "Int64Index: 4001 entries, 1 to 0\n",
      "Data columns (total 13 columns):\n",
      " #   Column                               Non-Null Count  Dtype         \n",
      "---  ------                               --------------  -----         \n",
      " 0   customer_id                          4000 non-null   object        \n",
      " 1   first_name                           4000 non-null   object        \n",
      " 2   last_name                            3875 non-null   object        \n",
      " 3   gender                               4000 non-null   object        \n",
      " 4   past_3_years_bike_related_purchases  4000 non-null   float64       \n",
      " 5   DOB                                  3914 non-null   datetime64[ns]\n",
      " 6   job_title                            3494 non-null   object        \n",
      " 7   job_industry_category                3344 non-null   object        \n",
      " 8   wealth_segment                       4000 non-null   object        \n",
      " 9   deceased_indicator                   4000 non-null   object        \n",
      " 10  default                              3698 non-null   object        \n",
      " 11  owns_car                             4000 non-null   object        \n",
      " 12  tenure                               3913 non-null   float64       \n",
      "dtypes: datetime64[ns](1), float64(2), object(10)\n",
      "memory usage: 566.6+ KB\n"
     ]
    }
   ],
   "source": [
    "Customer_demographic.info()"
   ]
  },
  {
   "cell_type": "code",
   "execution_count": 179,
   "id": "2beba62f-3928-4e57-aad2-112381f0d327",
   "metadata": {},
   "outputs": [
    {
     "name": "stderr",
     "output_type": "stream",
     "text": [
      "/tmp/ipykernel_7092/3169158163.py:1: FutureWarning: Dropping of nuisance columns in DataFrame reductions (with 'numeric_only=None') is deprecated; in a future version this will raise TypeError.  Select only valid columns before calling the reduction.\n",
      "  Customer_demographic[Customer_demographic.duplicated()].sum()\n"
     ]
    },
    {
     "data": {
      "text/plain": [
       "customer_id                            0.0\n",
       "first_name                             0.0\n",
       "last_name                              0.0\n",
       "gender                                 0.0\n",
       "past_3_years_bike_related_purchases    0.0\n",
       "job_title                              0.0\n",
       "job_industry_category                  0.0\n",
       "wealth_segment                         0.0\n",
       "deceased_indicator                     0.0\n",
       "default                                0.0\n",
       "owns_car                               0.0\n",
       "tenure                                 0.0\n",
       "dtype: float64"
      ]
     },
     "execution_count": 179,
     "metadata": {},
     "output_type": "execute_result"
    }
   ],
   "source": [
    "Customer_demographic[Customer_demographic.duplicated()].sum()"
   ]
  },
  {
   "cell_type": "code",
   "execution_count": 180,
   "id": "c8a73fbb-1401-4dd7-96c0-68ed419a0a2d",
   "metadata": {},
   "outputs": [
    {
     "data": {
      "text/html": [
       "<div>\n",
       "<style scoped>\n",
       "    .dataframe tbody tr th:only-of-type {\n",
       "        vertical-align: middle;\n",
       "    }\n",
       "\n",
       "    .dataframe tbody tr th {\n",
       "        vertical-align: top;\n",
       "    }\n",
       "\n",
       "    .dataframe thead th {\n",
       "        text-align: right;\n",
       "    }\n",
       "</style>\n",
       "<table border=\"1\" class=\"dataframe\">\n",
       "  <thead>\n",
       "    <tr style=\"text-align: right;\">\n",
       "      <th></th>\n",
       "      <th>Missing (%)</th>\n",
       "    </tr>\n",
       "  </thead>\n",
       "  <tbody>\n",
       "    <tr>\n",
       "      <th>customer_id</th>\n",
       "      <td>0.0</td>\n",
       "    </tr>\n",
       "    <tr>\n",
       "      <th>first_name</th>\n",
       "      <td>0.0</td>\n",
       "    </tr>\n",
       "    <tr>\n",
       "      <th>last_name</th>\n",
       "      <td>0.0</td>\n",
       "    </tr>\n",
       "    <tr>\n",
       "      <th>gender</th>\n",
       "      <td>0.0</td>\n",
       "    </tr>\n",
       "    <tr>\n",
       "      <th>past_3_years_bike_related_purchases</th>\n",
       "      <td>0.0</td>\n",
       "    </tr>\n",
       "    <tr>\n",
       "      <th>DOB</th>\n",
       "      <td>0.0</td>\n",
       "    </tr>\n",
       "    <tr>\n",
       "      <th>job_title</th>\n",
       "      <td>0.0</td>\n",
       "    </tr>\n",
       "    <tr>\n",
       "      <th>job_industry_category</th>\n",
       "      <td>16.1</td>\n",
       "    </tr>\n",
       "    <tr>\n",
       "      <th>wealth_segment</th>\n",
       "      <td>0.0</td>\n",
       "    </tr>\n",
       "    <tr>\n",
       "      <th>deceased_indicator</th>\n",
       "      <td>0.0</td>\n",
       "    </tr>\n",
       "    <tr>\n",
       "      <th>default</th>\n",
       "      <td>1.6</td>\n",
       "    </tr>\n",
       "    <tr>\n",
       "      <th>owns_car</th>\n",
       "      <td>0.0</td>\n",
       "    </tr>\n",
       "    <tr>\n",
       "      <th>tenure</th>\n",
       "      <td>0.0</td>\n",
       "    </tr>\n",
       "  </tbody>\n",
       "</table>\n",
       "</div>"
      ],
      "text/plain": [
       "                                     Missing (%)\n",
       "customer_id                                  0.0\n",
       "first_name                                   0.0\n",
       "last_name                                    0.0\n",
       "gender                                       0.0\n",
       "past_3_years_bike_related_purchases          0.0\n",
       "DOB                                          0.0\n",
       "job_title                                    0.0\n",
       "job_industry_category                       16.1\n",
       "wealth_segment                               0.0\n",
       "deceased_indicator                           0.0\n",
       "default                                      1.6\n",
       "owns_car                                     0.0\n",
       "tenure                                       0.0"
      ]
     },
     "execution_count": 180,
     "metadata": {},
     "output_type": "execute_result"
    }
   ],
   "source": [
    "# Percentage of missing points in each variable\n",
    "percent_missing_demographic = round(Customer_demographic.isnull().sum() / len(Customer_demographic) * 100, 1)\n",
    "missing_demographic = pd.DataFrame(percent_missing_Customer_demographic, columns=[\"Missing (%)\"])\n",
    "missing_demographic"
   ]
  },
  {
   "cell_type": "code",
   "execution_count": 181,
   "id": "aec21dc5-bad9-4141-a411-267e16ce6849",
   "metadata": {},
   "outputs": [],
   "source": [
    "#Filling in columns with mode \n",
    "Customer_demographic['last_name'] = Customer_demographic['last_name'].fillna(Customer_demographic['last_name'].mode()[0])\n",
    "Customer_demographic['DOB'] = Customer_demographic['DOB'].fillna(Customer_demographic['DOB'].mode()[0])\n",
    "Customer_demographic['job_title'] = Customer_demographic['job_title'].fillna(Customer_demographic['job_title'].mode()[0])\n",
    "Customer_demographic['job_industry_category'] = Customer_demographic['job_industry_category'].fillna(Customer_demographic['job_industry_category'].mode()[0])\n",
    "Customer_demographic['default'] = Customer_demographic['default'].fillna(Customer_demographic['default'].mode()[0])\n",
    "Customer_demographic['tenure'] = Customer_demographic['tenure'].fillna(Customer_demographic['tenure'].mean())"
   ]
  },
  {
   "cell_type": "code",
   "execution_count": 190,
   "id": "74a732ac-7449-487f-a2dc-7d2095b595d1",
   "metadata": {},
   "outputs": [
    {
     "name": "stdout",
     "output_type": "stream",
     "text": [
      "<class 'pandas.core.frame.DataFrame'>\n",
      "Int64Index: 3913 entries, 1 to 0\n",
      "Data columns (total 12 columns):\n",
      " #   Column                               Non-Null Count  Dtype         \n",
      "---  ------                               --------------  -----         \n",
      " 0   customer_id                          3912 non-null   object        \n",
      " 1   first_name                           3912 non-null   object        \n",
      " 2   last_name                            3913 non-null   object        \n",
      " 3   gender                               3912 non-null   object        \n",
      " 4   past_3_years_bike_related_purchases  3912 non-null   float64       \n",
      " 5   DOB                                  3913 non-null   datetime64[ns]\n",
      " 6   job_title                            3913 non-null   object        \n",
      " 7   job_industry_category                3913 non-null   object        \n",
      " 8   wealth_segment                       3912 non-null   object        \n",
      " 9   deceased_indicator                   3912 non-null   object        \n",
      " 10  owns_car                             3912 non-null   object        \n",
      " 11  tenure                               3913 non-null   float64       \n",
      "dtypes: datetime64[ns](1), float64(2), object(9)\n",
      "memory usage: 397.4+ KB\n"
     ]
    }
   ],
   "source": [
    "Customer_demographic.info()"
   ]
  },
  {
   "cell_type": "code",
   "execution_count": 185,
   "id": "714d126d-6ab2-454c-9ef8-ed18626bce39",
   "metadata": {},
   "outputs": [
    {
     "name": "stdout",
     "output_type": "stream",
     "text": [
      "['gender', 'job_title', 'job_industry_category', 'wealth_segment', 'deceased_indicator', 'owns_car']\n"
     ]
    }
   ],
   "source": [
    "cat_col=[]\n",
    "for x in Customer_demographic.dtypes.index:\n",
    "    if Customer_demographic.dtypes[x]=='object':\n",
    "        cat_col.append(x)\n",
    "cat_col\n",
    "cols_to_remove = ['customer_id', 'first_name', 'last_name', 'default']\n",
    "for col in cols_to_remove:\n",
    "    cat_col.remove(col)\n",
    "\n",
    "print(cat_col)"
   ]
  },
  {
   "cell_type": "code",
   "execution_count": 186,
   "id": "a43e92e7-7508-4c6d-8708-0fd49ab5e38e",
   "metadata": {},
   "outputs": [
    {
     "name": "stdout",
     "output_type": "stream",
     "text": [
      "gender\n",
      "\n",
      "3994\n",
      "['F' 'Male' 'Female' 'U' 'Femal' 'M' nan]\n",
      "\n",
      "Female    2037\n",
      "Male      1872\n",
      "U           88\n",
      "F            1\n",
      "Femal        1\n",
      "M            1\n",
      "Name: gender, dtype: int64\n",
      "\n",
      "_______________________________________________________________________________________\n",
      "\n",
      "job_title\n",
      "\n",
      "3806\n",
      "['Executive Secretary' 'Administrative Officer' 'Recruiting Manager'\n",
      " 'Business Systems Development Analyst' 'Senior Editor' 'Media Manager I'\n",
      " 'Senior Quality Engineer' 'Nuclear Power Engineer' 'Developer I'\n",
      " 'Account Executive' 'Junior Executive' 'Media Manager IV'\n",
      " 'Sales Associate' 'Professor' 'Geological Engineer' 'Project Manager'\n",
      " 'Safety Technician I' 'Research Assistant I' 'Accounting Assistant III'\n",
      " 'Editor' 'Research Nurse' 'Safety Technician III' 'Staff Accountant III'\n",
      " 'Legal Assistant' 'Product Engineer' 'Information Systems Manager'\n",
      " 'VP Quality Control' 'Social Worker' 'Senior Cost Accountant'\n",
      " 'Assistant Media Planner' 'Payment Adjustment Coordinator' 'Food Chemist'\n",
      " 'Accountant III' 'Director of Sales' 'Senior Financial Analyst'\n",
      " 'Registered Nurse' 'Biostatistician II' 'Computer Systems Analyst II'\n",
      " 'Software Test Engineer II' 'Paralegal' 'VP Sales'\n",
      " 'Chief Design Engineer' 'Office Assistant III'\n",
      " 'Physical Therapy Assistant' 'Help Desk Operator' 'Web Developer II'\n",
      " 'Research Associate' 'Teacher' 'VP Product Management' 'Statistician II'\n",
      " 'Automation Specialist IV' 'Data Coordiator' 'Software Test Engineer III'\n",
      " 'Internal Auditor' 'Analyst Programmer' 'Occupational Therapist'\n",
      " 'Speech Pathologist' 'Quality Control Specialist' 'Civil Engineer'\n",
      " 'Software Engineer III' 'Community Outreach Specialist'\n",
      " 'Safety Technician IV' 'VP Accounting' 'General Manager'\n",
      " 'Nurse Practicioner' 'Automation Specialist II' 'Marketing Assistant'\n",
      " 'Marketing Manager' 'Staff Scientist' 'Assistant Professor'\n",
      " 'Budget/Accounting Analyst IV' 'Associate Professor' 'Graphic Designer'\n",
      " 'Administrative Assistant II' 'Compensation Analyst'\n",
      " 'Systems Administrator III' 'Financial Advisor' 'Chemical Engineer'\n",
      " 'Web Designer I' 'Senior Developer' 'Office Assistant II' 'Recruiter'\n",
      " 'Operator' 'Programmer Analyst III' 'Quality Engineer'\n",
      " 'Environmental Tech' 'Analog Circuit Design manager' 'Cost Accountant'\n",
      " 'Librarian' 'Structural Analysis Engineer' 'Pharmacist'\n",
      " 'Assistant Manager' 'Accountant I' 'Web Designer III' 'Geologist III'\n",
      " 'Software Test Engineer I' 'Structural Engineer' 'Safety Technician II'\n",
      " 'Web Developer III' 'Programmer Analyst II' 'Design Engineer'\n",
      " 'Statistician I' 'VP Marketing' 'Desktop Support Technician' 'Actuary'\n",
      " 'Database Administrator III' 'Electrical Engineer' 'Tax Accountant'\n",
      " 'Clinical Specialist' 'Database Administrator IV'\n",
      " 'Systems Administrator II' 'Account Coordinator' 'Programmer III'\n",
      " 'Administrative Assistant III' 'Nurse' 'Technical Writer'\n",
      " 'Staff Accountant II' 'Dental Hygienist' 'Sales Representative'\n",
      " 'Budget/Accounting Analyst III' 'Computer Systems Analyst IV'\n",
      " 'Geologist I' 'Financial Analyst' 'Accounting Assistant II'\n",
      " 'Senior Sales Associate' 'Database Administrator II' 'Engineer I'\n",
      " 'Budget/Accounting Analyst I' 'Developer IV' 'Database Administrator I'\n",
      " 'Environmental Specialist' 'Computer Systems Analyst I'\n",
      " 'Account Representative IV' 'Statistician IV' 'Human Resources Manager'\n",
      " 'GIS Technical Architect' 'Programmer IV' 'Accounting Assistant IV'\n",
      " 'Software Engineer IV' 'Programmer II' 'Engineer III'\n",
      " 'Software Consultant' 'Biostatistician IV' 'Help Desk Technician'\n",
      " 'Automation Specialist I' 'Developer III' 'Human Resources Assistant I'\n",
      " 'Geologist IV' 'Media Manager II' 'Statistician III' 'Engineer II'\n",
      " 'Health Coach II' 'Developer II' 'Systems Administrator I'\n",
      " 'Web Developer I' 'Software Engineer II' 'Accounting Assistant I'\n",
      " 'Research Assistant II' 'Programmer Analyst IV' 'Health Coach I'\n",
      " 'Accountant II' 'Automation Specialist III' 'Administrative Assistant I'\n",
      " 'Health Coach IV' 'Media Manager III' 'Account Representative III'\n",
      " 'Web Designer IV' 'Budget/Accounting Analyst II' 'Web Developer IV'\n",
      " 'Programmer I' 'Biostatistician III' 'Software Test Engineer IV'\n",
      " 'Research Assistant IV' 'Account Representative I' 'Accountant IV'\n",
      " 'Biostatistician I' 'Human Resources Assistant IV'\n",
      " 'Administrative Assistant IV' 'Office Assistant I'\n",
      " 'Human Resources Assistant II' 'Mechanical Systems Engineer'\n",
      " 'Engineer IV' 'Health Coach III' 'Office Assistant IV'\n",
      " 'Software Engineer I' 'Human Resources Assistant III'\n",
      " 'Staff Accountant I' 'Computer Systems Analyst III' 'Geologist II'\n",
      " 'Web Designer II' 'Staff Accountant IV' 'Account Representative II'\n",
      " 'Programmer Analyst I' 'Systems Administrator IV'\n",
      " 'Research Assistant III']\n",
      "\n",
      "Business Systems Development Analyst    552\n",
      "Tax Accountant                           44\n",
      "Social Worker                            44\n",
      "Internal Auditor                         42\n",
      "Recruiting Manager                       41\n",
      "                                       ... \n",
      "Database Administrator I                  4\n",
      "Health Coach I                            3\n",
      "Health Coach III                          3\n",
      "Research Assistant III                    3\n",
      "Developer I                               1\n",
      "Name: job_title, Length: 195, dtype: int64\n",
      "\n",
      "_______________________________________________________________________________________\n",
      "\n",
      "job_industry_category\n",
      "\n",
      "3992\n",
      "['Health' 'Financial Services' 'Property' 'IT' 'Manufacturing' 'Retail'\n",
      " 'Argiculture' 'Telecommunications' 'Entertainment']\n",
      "\n",
      "Manufacturing         1456\n",
      "Financial Services     774\n",
      "Health                 602\n",
      "Retail                 358\n",
      "Property               267\n",
      "IT                     223\n",
      "Entertainment          136\n",
      "Argiculture            113\n",
      "Telecommunications      72\n",
      "Name: job_industry_category, dtype: int64\n",
      "\n",
      "_______________________________________________________________________________________\n",
      "\n",
      "wealth_segment\n",
      "\n",
      "3997\n",
      "['Mass Customer' 'Affluent Customer' 'High Net Worth' nan]\n",
      "\n",
      "Mass Customer        2000\n",
      "High Net Worth       1021\n",
      "Affluent Customer     979\n",
      "Name: wealth_segment, dtype: int64\n",
      "\n",
      "_______________________________________________________________________________________\n",
      "\n",
      "deceased_indicator\n",
      "\n",
      "3998\n",
      "['N' 'Y' nan]\n",
      "\n",
      "N    3998\n",
      "Y       2\n",
      "Name: deceased_indicator, dtype: int64\n",
      "\n",
      "_______________________________________________________________________________________\n",
      "\n",
      "owns_car\n",
      "\n",
      "3998\n",
      "['Yes' 'No' nan]\n",
      "\n",
      "Yes    2024\n",
      "No     1976\n",
      "Name: owns_car, dtype: int64\n",
      "\n",
      "_______________________________________________________________________________________\n",
      "\n"
     ]
    }
   ],
   "source": [
    "#checking for duplicated values in the categorical columns nd the accuracy of the values\n",
    "for col in cat_col:\n",
    "    print(col)\n",
    "    print()\n",
    "    # Check for duplicates \n",
    "    print(Customer_demographic[col].duplicated().sum())\n",
    "    print(Customer_demographic[col].unique())\n",
    "    print()\n",
    "    # Check the accuracy of values in \"order_status\"\n",
    "    print(Customer_demographic[col].value_counts())\n",
    "    print()\n",
    "    print('_______________________________________________________________________________________')\n",
    "    print()"
   ]
  },
  {
   "cell_type": "code",
   "execution_count": 189,
   "id": "82e6b18e-900a-43da-bf12-60be878bf5d7",
   "metadata": {},
   "outputs": [],
   "source": [
    "Customer_demographic.replace({'gender':{'F':'Female','Femal':'Female','M':'Male'}},inplace=True)\n",
    "Customer_demographic=Customer_demographic[Customer_demographic.gender!='U']\n",
    "Customer_demographic.drop('default',axis=1,inplace=True)"
   ]
  },
  {
   "cell_type": "markdown",
   "id": "8842f670-3479-4dd1-a417-2e3966ab17a4",
   "metadata": {},
   "source": [
    "The last row contains severall null cases and wasn't deleted automatically so we'll delete it now"
   ]
  },
  {
   "cell_type": "code",
   "execution_count": 206,
   "id": "a4134ea5-3fbd-4b9e-99b4-254e4b7e9bfd",
   "metadata": {},
   "outputs": [],
   "source": [
    "Customer_demographic.to_csv('Updated_demo.csv', index=False)"
   ]
  },
  {
   "cell_type": "code",
   "execution_count": 262,
   "id": "722908f4-f816-4564-812d-12b64a6764e5",
   "metadata": {},
   "outputs": [],
   "source": [
    "Customer_address.to_csv('Updated_address.csv', index=False)"
   ]
  },
  {
   "cell_type": "code",
   "execution_count": 256,
   "id": "ed5c81a9-a8f1-472e-bb12-544bb140b167",
   "metadata": {},
   "outputs": [],
   "source": [
    "Transactions.to_csv('Updated_tr.csv', index=False)"
   ]
  }
 ],
 "metadata": {
  "kernelspec": {
   "display_name": "Python 3 (ipykernel)",
   "language": "python",
   "name": "python3"
  },
  "language_info": {
   "codemirror_mode": {
    "name": "ipython",
    "version": 3
   },
   "file_extension": ".py",
   "mimetype": "text/x-python",
   "name": "python",
   "nbconvert_exporter": "python",
   "pygments_lexer": "ipython3",
   "version": "3.9.12"
  }
 },
 "nbformat": 4,
 "nbformat_minor": 5
}
